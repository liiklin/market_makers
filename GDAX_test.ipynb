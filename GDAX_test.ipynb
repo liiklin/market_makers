{
 "cells": [
  {
   "cell_type": "code",
   "execution_count": 1,
   "metadata": {
    "collapsed": false
   },
   "outputs": [
    {
     "name": "stdout",
     "output_type": "stream",
     "text": [
      "[{u'available': u'2.0091215000000000', u'balance': u'2.0091215000000000', u'profile_id': u'607e4188-4e1e-4b0f-b909-b7da40427b07', u'currency': u'USD', u'hold': u'0.0000000000000000', u'id': u'b6c95229-a84a-4a6e-902b-d2f9391d2c19'}, {u'available': u'0.0000000000000000', u'balance': u'0.0000000000000000', u'profile_id': u'607e4188-4e1e-4b0f-b909-b7da40427b07', u'currency': u'LTC', u'hold': u'0.0000000000000000', u'id': u'67e43ea1-7975-4010-8a43-771490cbf730'}, {u'available': u'18.0000000000000000', u'balance': u'18.0000000000000000', u'profile_id': u'607e4188-4e1e-4b0f-b909-b7da40427b07', u'currency': u'ETH', u'hold': u'0.0000000000000000', u'id': u'95174c3c-838c-4c36-9439-93ffef58ef04'}, {u'available': u'0.4930000000000000', u'balance': u'0.4930000000000000', u'profile_id': u'607e4188-4e1e-4b0f-b909-b7da40427b07', u'currency': u'BTC', u'hold': u'0.0000000000000000', u'id': u'0de99db6-7668-4588-bf2d-d8d77a4cc2a2'}]\n"
     ]
    }
   ],
   "source": [
    "import requests\n",
    "from gdax import CoinbaseExchangeAuth\n",
    "API_KEY=\"\"\n",
    "API_PASS = \"\"\n",
    "API_SECRET = \"\"\n",
    "\n",
    "api_url = 'https://api.gdax.com/'\n",
    "auth = CoinbaseExchangeAuth(API_KEY, API_SECRET, API_PASS)\n",
    "\n",
    "# Get accounts\n",
    "r = requests.get(api_url + 'accounts', auth=auth)\n",
    "print (r.json())"
   ]
  },
  {
   "cell_type": "code",
   "execution_count": 4,
   "metadata": {
    "collapsed": false
   },
   "outputs": [
    {
     "name": "stdout",
     "output_type": "stream",
     "text": [
      "BTCUSD-daily-2014-2016.json  gdax.pyc\r\n",
      "GDAX_test.ipynb\t\t     identifying_trends.mp4.txt\r\n",
      "USD-local-2014-2016.json     jupyter_notebook_config.py\r\n",
      "__pycache__\t\t     notes\r\n",
      "base-notebook\t\t     requirements.txt\r\n",
      "gdax.py\r\n"
     ]
    }
   ],
   "source": [
    "!ls\n"
   ]
  }
 ],
 "metadata": {
  "kernelspec": {
   "display_name": "Python 2",
   "language": "python",
   "name": "python2"
  },
  "language_info": {
   "codemirror_mode": {
    "name": "ipython",
    "version": 2
   },
   "file_extension": ".py",
   "mimetype": "text/x-python",
   "name": "python",
   "nbconvert_exporter": "python",
   "pygments_lexer": "ipython2",
   "version": "2.7.12+"
  }
 },
 "nbformat": 4,
 "nbformat_minor": 1
}
