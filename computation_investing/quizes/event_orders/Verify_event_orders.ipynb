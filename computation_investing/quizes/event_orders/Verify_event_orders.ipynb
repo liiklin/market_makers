{
 "cells": [
  {
   "cell_type": "code",
   "execution_count": null,
   "metadata": {},
   "outputs": [],
   "source": [
    "import QSTK.qstkutil.qsdateutil as du\n",
    "import datetime as dt\n",
    "from datetime import timedelta\n",
    "import numpy as np\n",
    "import pandas as pd\n",
    "import time \n",
    "from event_value_below import *\n",
    "\n",
    "start = time.time()\n",
    "dt_start = dt.datetime(2008, 1, 1)\n",
    "dt_end = dt.datetime(2009, 12, 31)\n",
    "\n",
    "evo = EventOrders(\"sp5002012\", dt_start, dt_end)\n",
    "events = evo.find_events_vectorized(6.0)\n",
    "print \"found %s events\" % (len(events))\n",
    "ldt_sell = evo.get_offset_timestamps(events.index, days_offset=5)\n",
    "orders = evo.create_event_orders(events, ldt_sell)\n",
    "\n",
    "end = time.time()\n",
    "print \"%s Orders created in %ss.\" % (orders.count(0), end - start)\n",
    "orders[[\"year\",\"month\",\"day\",\"symbol\",\"action\",\"amount\"]].head()"
   ]
  }
 ],
 "metadata": {
  "kernelspec": {
   "display_name": "Python 2",
   "language": "python",
   "name": "python2"
  },
  "language_info": {
   "codemirror_mode": {
    "name": "ipython",
    "version": 2
   },
   "file_extension": ".py",
   "mimetype": "text/x-python",
   "name": "python",
   "nbconvert_exporter": "python",
   "pygments_lexer": "ipython2",
   "version": "2.7.14"
  }
 },
 "nbformat": 4,
 "nbformat_minor": 2
}
