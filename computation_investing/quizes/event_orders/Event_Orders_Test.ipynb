{
 "cells": [
  {
   "cell_type": "code",
   "execution_count": 1,
   "metadata": {},
   "outputs": [
    {
     "name": "stdout",
     "output_type": "stream",
     "text": [
      "data loaded.\n"
     ]
    }
   ],
   "source": [
    "import QSTK.qstkutil.qsdateutil as du\n",
    "import datetime as dt\n",
    "import time \n",
    "\n",
    "from event_value_below import find_events, create_event_orders, load_data, find_events_vectorized\n",
    " \n",
    "dt_start = dt.datetime(2008, 1, 1)\n",
    "dt_end = dt.datetime(2009, 12, 31)\n",
    "ldt_timestamps = du.getNYSEdays(dt_start, dt_end, dt.timedelta(hours=16))\n",
    "\n",
    "ls_data = load_data(ldt_timestamps,\"sp5002008\" )\n",
    "ls_symbols = ls_data[\"close\"].columns\n",
    "\n",
    "print \"data loaded.\"\n"
   ]
  },
  {
   "cell_type": "code",
   "execution_count": 2,
   "metadata": {},
   "outputs": [
    {
     "name": "stdout",
     "output_type": "stream",
     "text": [
      "Finding Events...\n",
      "Found events in 16.7115590572\n"
     ]
    }
   ],
   "source": [
    "start = time.time()\n",
    "\n",
    "events = find_events(ls_symbols, ls_data, 5)\n",
    "end = time.time()\n",
    "print(\"Found events in %s\" % (end - start))\n",
    "\n"
   ]
  },
  {
   "cell_type": "code",
   "execution_count": 3,
   "metadata": {},
   "outputs": [
    {
     "name": "stdout",
     "output_type": "stream",
     "text": [
      "Finding Events...\n",
      "Found events in 0.391684055328\n"
     ]
    }
   ],
   "source": [
    "start = time.time()\n",
    "events = find_events_vectorized(ls_symbols, ls_data, 5)\n",
    "end = time.time()\n",
    "print(\"Found events in %s\" % (end - start))\n",
    "\n"
   ]
  }
 ],
 "metadata": {
  "kernelspec": {
   "display_name": "Python 2",
   "language": "python",
   "name": "python2"
  },
  "language_info": {
   "codemirror_mode": {
    "name": "ipython",
    "version": 2
   },
   "file_extension": ".py",
   "mimetype": "text/x-python",
   "name": "python",
   "nbconvert_exporter": "python",
   "pygments_lexer": "ipython2",
   "version": "2.7.14"
  }
 },
 "nbformat": 4,
 "nbformat_minor": 2
}
