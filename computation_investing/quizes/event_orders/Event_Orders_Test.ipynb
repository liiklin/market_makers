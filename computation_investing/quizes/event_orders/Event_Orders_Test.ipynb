{
 "cells": [
  {
   "cell_type": "code",
   "execution_count": 1,
   "metadata": {},
   "outputs": [
    {
     "name": "stdout",
     "output_type": "stream",
     "text": [
      "found 227 events\n",
      "symbol    454\n",
      "action    454\n",
      "year      454\n",
      "month     454\n",
      "day       454\n",
      "amount    454\n",
      "dtype: int64 Orders created in 0.94722700119s.\n"
     ]
    },
    {
     "data": {
      "text/html": [
       "<div>\n",
       "<style scoped>\n",
       "    .dataframe tbody tr th:only-of-type {\n",
       "        vertical-align: middle;\n",
       "    }\n",
       "\n",
       "    .dataframe tbody tr th {\n",
       "        vertical-align: top;\n",
       "    }\n",
       "\n",
       "    .dataframe thead th {\n",
       "        text-align: right;\n",
       "    }\n",
       "</style>\n",
       "<table border=\"1\" class=\"dataframe\">\n",
       "  <thead>\n",
       "    <tr style=\"text-align: right;\">\n",
       "      <th></th>\n",
       "      <th>year</th>\n",
       "      <th>month</th>\n",
       "      <th>day</th>\n",
       "      <th>symbol</th>\n",
       "      <th>action</th>\n",
       "      <th>amount</th>\n",
       "    </tr>\n",
       "    <tr>\n",
       "      <th>date</th>\n",
       "      <th></th>\n",
       "      <th></th>\n",
       "      <th></th>\n",
       "      <th></th>\n",
       "      <th></th>\n",
       "      <th></th>\n",
       "    </tr>\n",
       "  </thead>\n",
       "  <tbody>\n",
       "    <tr>\n",
       "      <th>2008-01-10 16:00:00</th>\n",
       "      <td>2008</td>\n",
       "      <td>1</td>\n",
       "      <td>10</td>\n",
       "      <td>AMD</td>\n",
       "      <td>Buy</td>\n",
       "      <td>100</td>\n",
       "    </tr>\n",
       "    <tr>\n",
       "      <th>2008-01-16 16:00:00</th>\n",
       "      <td>2008</td>\n",
       "      <td>1</td>\n",
       "      <td>16</td>\n",
       "      <td>MU</td>\n",
       "      <td>Buy</td>\n",
       "      <td>100</td>\n",
       "    </tr>\n",
       "    <tr>\n",
       "      <th>2008-01-17 16:00:00</th>\n",
       "      <td>2008</td>\n",
       "      <td>1</td>\n",
       "      <td>17</td>\n",
       "      <td>AMD</td>\n",
       "      <td>Sell</td>\n",
       "      <td>100</td>\n",
       "    </tr>\n",
       "    <tr>\n",
       "      <th>2008-01-22 16:00:00</th>\n",
       "      <td>2008</td>\n",
       "      <td>1</td>\n",
       "      <td>22</td>\n",
       "      <td>F</td>\n",
       "      <td>Buy</td>\n",
       "      <td>100</td>\n",
       "    </tr>\n",
       "    <tr>\n",
       "      <th>2008-01-24 16:00:00</th>\n",
       "      <td>2008</td>\n",
       "      <td>1</td>\n",
       "      <td>24</td>\n",
       "      <td>MSI</td>\n",
       "      <td>Buy</td>\n",
       "      <td>100</td>\n",
       "    </tr>\n",
       "  </tbody>\n",
       "</table>\n",
       "</div>"
      ],
      "text/plain": [
       "                     year  month  day symbol action  amount\n",
       "date                                                       \n",
       "2008-01-10 16:00:00  2008      1   10    AMD    Buy     100\n",
       "2008-01-16 16:00:00  2008      1   16     MU    Buy     100\n",
       "2008-01-17 16:00:00  2008      1   17    AMD   Sell     100\n",
       "2008-01-22 16:00:00  2008      1   22      F    Buy     100\n",
       "2008-01-24 16:00:00  2008      1   24    MSI    Buy     100"
      ]
     },
     "execution_count": 1,
     "metadata": {},
     "output_type": "execute_result"
    }
   ],
   "source": [
    "import QSTK.qstkutil.qsdateutil as du\n",
    "import datetime as dt\n",
    "from datetime import timedelta\n",
    "import numpy as np\n",
    "import pandas as pd\n",
    "import time \n",
    "from event_value_below import *\n",
    "\n",
    "start = time.time()\n",
    "dt_start = dt.datetime(2008, 1, 1)\n",
    "dt_end = dt.datetime(2009, 12, 31)\n",
    "\n",
    "evo = EventOrders(\"sp5002012\", dt_start, dt_end)\n",
    "events = evo.find_events_vectorized(6.0)\n",
    "print \"found %s events\" % (len(events))\n",
    "ldt_sell = evo.get_offset_timestamps(events.index, days_offset=5)\n",
    "orders = evo.create_event_orders(events, ldt_sell)\n",
    "\n",
    "end = time.time()\n",
    "print \"%s Orders created in %ss.\" % (orders.count(0), end - start)\n",
    "orders[[\"year\",\"month\",\"day\",\"symbol\",\"action\",\"amount\"]].head()\n",
    "#.to_csv(columns=[\"year\",\"month\",\"day\",\"stock\",\"order\",\"amount\"]).head()"
   ]
  },
  {
   "cell_type": "code",
   "execution_count": 2,
   "metadata": {},
   "outputs": [
    {
     "name": "stdout",
     "output_type": "stream",
     "text": [
      "                     day  month  year  portfolio\n",
      "2008-01-02 16:00:00    2      1  2008    50000.0\n",
      "2008-01-03 16:00:00    3      1  2008    50000.0\n",
      "2008-01-04 16:00:00    4      1  2008    50000.0\n",
      "2008-01-07 16:00:00    7      1  2008    50000.0\n",
      "2008-01-08 16:00:00    8      1  2008    50000.0\n",
      "                     day  month  year  portfolio\n",
      "2009-12-23 16:00:00   23     12  2009    65879.0\n",
      "2009-12-24 16:00:00   24     12  2009    65883.0\n",
      "2009-12-28 16:00:00   28     12  2009    65880.0\n",
      "2009-12-29 16:00:00   29     12  2009    65876.0\n",
      "2009-12-30 16:00:00   30     12  2009    65884.0\n",
      "Details of the Performance of the portfolio :\n",
      "Data Range :  2008-01-02 16:00:00  to  2009-12-30 16:00:00\n",
      "\n",
      "Sharpe Ratio of Fund : 3.0421498956604833\n",
      "Sharpe Ratio of $SPX : -0.26217244492704994\n",
      "\n",
      "Total Return of Fund :  1.31768\n",
      "Total Return of $SPX : 0.7783659028718317\n",
      "\n",
      "Standard Deviation of Fund :  0.004102644422673469\n",
      "Standard Deviation of $SPX : 0.021939115265472563\n",
      "\n",
      "Average Daily Return of Fund :  0.0005559416595475247\n",
      "Average Daily Return of $SPX : -0.00025620693782283727\n"
     ]
    }
   ],
   "source": [
    "portfolio = evo.simulate(orders)\n",
    "print portfolio.head()\n",
    "print portfolio.tail()\n",
    "\n",
    "returns = evo.analyze(portfolio, \"drop_below_6.0\")\n"
   ]
  },
  {
   "cell_type": "code",
   "execution_count": 3,
   "metadata": {},
   "outputs": [
    {
     "data": {
      "text/plain": [
       "[<matplotlib.lines.Line2D at 0x7f657c2449d0>]"
      ]
     },
     "execution_count": 3,
     "metadata": {},
     "output_type": "execute_result"
    },
    {
     "data": {
      "image/png": "[encoded data removed]",
      "text/plain": [
       "<Figure size 432x288 with 1 Axes>"
      ]
     },
     "metadata": {},
     "output_type": "display_data"
    }
   ],
   "source": [
    "import matplotlib.pyplot as plt\n",
    "%matplotlib inline\n",
    "plt.figure()\n",
    "plt.plot(returns[\"$SPX\"])\n",
    "plt.plt(returns[\"portfolio\"])\n"
   ]
  },
  {
   "cell_type": "code",
   "execution_count": 4,
   "metadata": {},
   "outputs": [
    {
     "data": {
      "text/plain": [
       "[<matplotlib.lines.Line2D at 0x7f65ad3dc9d0>]"
      ]
     },
     "execution_count": 4,
     "metadata": {},
     "output_type": "execute_result"
    },
    {
     "data": {
      "image/png": "[encoded data removed]",
      "text/plain": [
       "<Figure size 432x288 with 1 Axes>"
      ]
     },
     "metadata": {},
     "output_type": "display_data"
    }
   ],
   "source": [
    "portfolio[\"$SPX\"]\n",
    "plt.figure()\n",
    "plt.plot(portfolio[\"$SPX\"])"
   ]
  },
  {
   "cell_type": "code",
   "execution_count": null,
   "metadata": {},
   "outputs": [],
   "source": []
  }
 ],
 "metadata": {
  "kernelspec": {
   "display_name": "Python 2",
   "language": "python",
   "name": "python2"
  },
  "language_info": {
   "codemirror_mode": {
    "name": "ipython",
    "version": 2
   },
   "file_extension": ".py",
   "mimetype": "text/x-python",
   "name": "python",
   "nbconvert_exporter": "python",
   "pygments_lexer": "ipython2",
   "version": "2.7.14"
  }
 },
 "nbformat": 4,
 "nbformat_minor": 2
}
